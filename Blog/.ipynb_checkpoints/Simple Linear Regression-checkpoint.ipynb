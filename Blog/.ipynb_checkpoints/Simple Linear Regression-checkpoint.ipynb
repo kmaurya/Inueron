{
 "cells": [
  {
   "cell_type": "markdown",
   "metadata": {},
   "source": [
    "As we are now aware that simple linear regression model uses only one feature for the prediction of label.\n",
    "\n",
    "So we can represent simple linear regression mathematically as:\n",
    "    \n",
    "    y = mx + c\n",
    "    \n",
    "    where,\n",
    "    m,c : are the slopes and intercept respectively (learning will be carried out by algorithm to find these values)\n",
    "    y : is the label \n",
    "    x : is the feature or the input data\n",
    "        "
   ]
  },
  {
   "cell_type": "markdown",
   "metadata": {},
   "source": [
    "Let solve some case study to get a brief knowldege with respect to concept and code for simple linear regression.\n",
    "You can find the dataset at: \n",
    "    "
   ]
  },
  {
   "cell_type": "code",
   "execution_count": null,
   "metadata": {},
   "outputs": [],
   "source": [
    "# We are importing the libraries required "
   ]
  }
 ],
 "metadata": {
  "kernelspec": {
   "display_name": "Python 3",
   "language": "python",
   "name": "python3"
  },
  "language_info": {
   "codemirror_mode": {
    "name": "ipython",
    "version": 3
   },
   "file_extension": ".py",
   "mimetype": "text/x-python",
   "name": "python",
   "nbconvert_exporter": "python",
   "pygments_lexer": "ipython3",
   "version": "3.8.3"
  }
 },
 "nbformat": 4,
 "nbformat_minor": 4
}
